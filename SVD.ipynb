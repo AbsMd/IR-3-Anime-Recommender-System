{
  "nbformat": 4,
  "nbformat_minor": 0,
  "metadata": {
    "colab": {
      "name": "SVD.ipynb",
      "provenance": [],
      "collapsed_sections": []
    },
    "kernelspec": {
      "name": "python3",
      "display_name": "Python 3"
    }
  },
  "cells": [
    {
      "cell_type": "code",
      "metadata": {
        "colab": {
          "base_uri": "https://localhost:8080/"
        },
        "id": "6f98p55BaqBr",
        "outputId": "acc796f0-6c2f-4a94-ebb0-a1721191e5a6"
      },
      "source": [
        "import numpy as np\n",
        "import pandas as pd\n",
        "\n",
        "df = pd.read_csv('rating.csv', header=0)\n",
        "anime_names = pd.read_csv('anime.csv', header=0)\n",
        "anime_names = anime_names.drop(['genre','type','episodes','rating','members'], axis=1)\n",
        "df = pd.merge(df, anime_names, on=\"anime_id\")\n",
        "df\n",
        "n_users = df.user_id.nunique()\n",
        "n_animes = df.anime_id.nunique()\n",
        "\n",
        "print('Num. of Users: '+ str(n_users))\n",
        "print('Num of Movies: '+ str(n_animes))\n",
        "\n",
        "\n",
        "A = df.pivot_table(index='user_id',columns='anime_name',values='rating')\n",
        "\n",
        "t1 = time.time()\n",
        "\n",
        "A_T = np.transpose(A)\n",
        "V = np.dot(A_T, A) \n",
        "U = np.dot(A, A_T)\n",
        "s, v = np.linalg.eig(m) \n",
        "s_diag_matrix = np.diag(s)\n",
        "rating_matrix = X_pred = np.dot(np.dot(u, s_diag_90), vt)\n",
        "\n",
        "movie = input('Please enter an anime you like:')\n",
        "print('Finding anime for you using SVD...')\n",
        "movie_user_ratings = rating_matrix[movie]\n",
        "similar_to_movie = rating_matrix.corrwith(movie_user_ratings)\n",
        "\n",
        "corr_movie = pd.DataFrame(similar_to_movie,columns=['Correlation'])\n",
        "corr_movie.dropna(inplace=True)\n",
        "corr_movie = corr_movie.sort_values('Correlation',ascending=False)\n",
        "corr_movie.drop('Correlation',axis=1,inplace=True)\n",
        "print('SVD RMSE: ' + str(np.sqrt(rmse(rating_matrix, A))))\n",
        "print('Anime Recommendations for you:')\n",
        "corr_movie.head()\n",
        "print('Time taken:' +t1)"
      ],
      "execution_count": null,
      "outputs": [
        {
          "output_type": "stream",
          "text": [
            "Num. of Users: 73515\n",
            "Num of Movies: 11197\n"
          ],
          "name": "stdout"
        }
      ]
    },
    {
      "cell_type": "code",
      "metadata": {
        "id": "_hXUcz75dlkI"
      },
      "source": [
        "t2 = time.time()\n",
        "\n",
        "print('Finding anime for you using SVD with 90% energy retention...')\n",
        "\n",
        "A_T = np.transpose(A)\n",
        "V = np.dot(A_T, A) \n",
        "U = np.dot(A, A_T)\n",
        "s, v = np.linalg.eig(m) \n",
        "s_diag_matrix = np.diag(s)\n",
        "\n",
        "m = 0.9 * len(s)\n",
        "s_90 = s[0:m]\n",
        "s_diag_90 = np.diag(s_90)\n",
        "rating_matrix_90 = np.dot(np.dot(u, s_diag_90), vt)\n",
        "\n",
        "movie_user_ratings_90 = rating_matrix_90[movie]\n",
        "similar_to_movie_90 = rating_matrix_90.corrwith(movie_user_ratings)\n",
        "\n",
        "corr_movie = pd.DataFrame(similar_to_movie_90,columns=['Correlation'])\n",
        "corr_movie.dropna(inplace=True)\n",
        "corr_movie = corr_movie.sort_values('Correlation',ascending=False)\n",
        "corr_movie.drop('Correlation',axis=1,inplace=True)\n",
        "print('SVD_90 RMSE: ' + str(np.sqrt(rmse(rating_matrix_90, A))))\n",
        "print('Anime Recommendations for you:')\n",
        "corr_movie.head()\n",
        "print('Time taken:' +t2)"
      ],
      "execution_count": null,
      "outputs": []
    }
  ]
}