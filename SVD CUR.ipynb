{
  "nbformat": 4,
  "nbformat_minor": 0,
  "metadata": {
    "colab": {
      "name": "Copy of IR-Assignment-3.ipynb",
      "provenance": [],
      "collapsed_sections": []
    },
    "kernelspec": {
      "name": "python3",
      "display_name": "Python 3"
    }
  },
  "cells": [
    {
      "cell_type": "markdown",
      "metadata": {
        "id": "0Fc2IbbnoQIs"
      },
      "source": [
        "Collaborative"
      ]
    },
    {
      "cell_type": "code",
      "metadata": {
        "id": "oLmVm1EYoM2m"
      },
      "source": [
        ""
      ],
      "execution_count": null,
      "outputs": []
    },
    {
      "cell_type": "markdown",
      "metadata": {
        "id": "hJfUIqzxoTE_"
      },
      "source": [
        "SVD"
      ]
    },
    {
      "cell_type": "code",
      "metadata": {
        "id": "dR53X2i2oUap",
        "colab": {
          "base_uri": "https://localhost:8080/"
        },
        "outputId": "be64b5bd-fc59-46af-b1e5-65906bda91c1"
      },
      "source": [
        "#SVD\n",
        "import numpy as np\n",
        "import pandas as pd\n",
        "import time\n",
        "\n",
        "df = pd.read_csv('rating.csv', header=0)\n",
        "anime_names = pd.read_csv('anime.csv', header=0)\n",
        "anime_names = anime_names.drop(['genre','type','episodes','rating','members'], axis=1)\n",
        "df = pd.merge(df, anime_names, on=\"anime_id\")\n",
        "df\n",
        "n_users = df.user_id.nunique()\n",
        "n_animes = df.anime_id.nunique()\n",
        "\n",
        "print('Num. of Users: '+ str(n_users))\n",
        "print('Num of Movies: '+ str(n_animes))\n",
        "\n",
        "\n",
        "A = df.pivot_table(index='user_id',columns='name',values='rating')\n",
        "\n",
        "t1 = time.time()\n",
        "\n",
        "A_T = np.transpose(A)\n",
        "V = np.dot(A_T, A) \n",
        "U = np.dot(A, A_T)\n",
        "s, v = np.linalg.eig(A) \n",
        "s_diag_matrix = np.diag(s)\n",
        "rating_matrix = X_pred = np.dot(np.dot(U, s_diag_90), v.T)\n",
        "\n",
        "movie = input('Please enter an anime you like:')\n",
        "print('Finding anime for you using SVD...')\n",
        "movie_user_ratings = rating_matrix[movie]\n",
        "similar_to_movie = rating_matrix.corrwith(movie_user_ratings)\n",
        "\n",
        "corr_movie = pd.DataFrame(similar_to_movie,columns=['Correlation'])\n",
        "corr_movie.dropna(inplace=True)\n",
        "corr_movie = corr_movie.sort_values('Correlation',ascending=False)\n",
        "corr_movie.drop('Correlation',axis=1,inplace=True)\n",
        "print('SVD RMSE: ' + str(np.sqrt(rmse(rating_matrix, A))))\n",
        "print('Anime Recommendations for you:')\n",
        "corr_movie.head()\n",
        "print('Time taken:' +t1)"
      ],
      "execution_count": null,
      "outputs": [
        {
          "output_type": "stream",
          "text": [
            "Num. of Users: 51999\n",
            "Num of Movies: 11107\n"
          ],
          "name": "stdout"
        }
      ]
    },
    {
      "cell_type": "code",
      "metadata": {
        "id": "OMVozyrdfH3Q"
      },
      "source": [
        "#SVD with 90% energy retention\n",
        "t2 = time.time()\n",
        "\n",
        "print('Finding anime for you using SVD with 90% energy retention...')\n",
        "\n",
        "A_T = np.transpose(A)\n",
        "V = np.dot(A_T, A) \n",
        "U = np.dot(A, A_T)\n",
        "s, v = np.linalg.eig(m) \n",
        "s_diag_matrix = np.diag(s)\n",
        "\n",
        "m = 0.9 * len(s)\n",
        "s_90 = s[0:m]\n",
        "s_diag_90 = np.diag(s_90)\n",
        "rating_matrix_90 = np.dot(np.dot(u, s_diag_90), vt)\n",
        "\n",
        "movie_user_ratings_90 = rating_matrix_90[movie]\n",
        "similar_to_movie_90 = rating_matrix_90.corrwith(movie_user_ratings)\n",
        "\n",
        "corr_movie = pd.DataFrame(similar_to_movie_90,columns=['Correlation'])\n",
        "corr_movie.dropna(inplace=True)\n",
        "corr_movie = corr_movie.sort_values('Correlation',ascending=False)\n",
        "corr_movie.drop('Correlation',axis=1,inplace=True)\n",
        "print('SVD_90 RMSE: ' + str(np.sqrt(rmse(rating_matrix_90, A))))\n",
        "print('Anime Recommendations for you:')\n",
        "corr_movie.head()\n",
        "print('Time taken:' +t2)"
      ],
      "execution_count": null,
      "outputs": []
    },
    {
      "cell_type": "markdown",
      "metadata": {
        "id": "c3MnESvHoVT8"
      },
      "source": [
        "CUR"
      ]
    },
    {
      "cell_type": "code",
      "metadata": {
        "id": "Ef56qFG7oUyk"
      },
      "source": [
        "import numpy as np\n",
        "import pandas as pd\n",
        "import time"
      ],
      "execution_count": null,
      "outputs": []
    },
    {
      "cell_type": "code",
      "metadata": {
        "id": "YwIkMazRojAm"
      },
      "source": [
        "def diag_inv(mat):\n",
        "    #Pseudo Diagonal matrix needed for 'U' matrix\n",
        "    for x in range(mat.shape[0]):\n",
        "        if mat[x,x] != 0:\n",
        "            mat[x,x] = 1/mat[x,x]\n",
        "    \n",
        "    return mat\n",
        "\n",
        "def error(A, C, U, R):\n",
        "    #Frobenius norm (error) between the decomposed matrix and original matrix\n",
        "    A_pseudo = np.matmul(C, np.matmul(U, R))\n",
        "    frob_norm = np.linalg.norm(A - A_pseudo)\n",
        "    return frob_norm"
      ],
      "execution_count": null,
      "outputs": []
    },
    {
      "cell_type": "code",
      "metadata": {
        "id": "AguP8GGAolAx"
      },
      "source": [
        "def select(arr):\n",
        "\n",
        "    #User defined input to choose the number of rows and columns he/she wants to select    \n",
        "    c = int(input('Enter the number of columns to be selected: '))\n",
        "    r = int(input('Enter the number of rows to be selected: '))\n",
        "    mod = input('Enable modified CUR (removes duplicate rows and columns) [Y/N]: ')\n",
        "    \n",
        "    #Sum of squares of all entries\n",
        "    sqr_sum = np.linalg.norm(arr)**2\n",
        "    \n",
        "    #t0 calculate the time taken to perform CUR decomposition for each step C U and R\n",
        "    t1 = time.time()\n",
        "\n",
        "    #C-matrix\n",
        "    score_col = np.sum(np.square(arr), axis = 0)/sqr_sum\n",
        "    if mod.lower() == 'y':\n",
        "        score_col = score_col.reshape(1, len(score_col))\n",
        "        _, ind = np.unique(score_col, axis = 1, return_index = True)\n",
        "        for x in range(score_col.shape[1]):\n",
        "            if x in ind:\n",
        "                continue\n",
        "            else:\n",
        "                score_col[:,x] = 0\n",
        "        score_col = score_col.reshape(score_col.shape[1], )\n",
        "    indices_col = score_col.argsort()[-c:][::-1]\n",
        "    c_mat = arr[:,indices_col]/np.sqrt(c*score_col[indices_col])\n",
        "    \n",
        "    t2 = time.time()\n",
        "    \n",
        "    #R_matrix\n",
        "    score_row = np.sum(np.square(arr), axis = 1)/sqr_sum\n",
        "    if mod.lower() == 'y':\n",
        "        score_row = score_row.reshape(1, len(score_row))\n",
        "        _, ind = np.unique(score_row, axis = 1, return_index = True)\n",
        "        for x in range(score_row.shape[1]):\n",
        "            if x in ind:\n",
        "                continue\n",
        "            else:\n",
        "                score_row[:,x] = 0\n",
        "        score_row = score_row.reshape(score_row.shape[1], )\n",
        "    indices_row = score_row.argsort()[-r:][::-1]\n",
        "    r_mat = arr[indices_row,:]/np.sqrt(r*score_row[indices_row].reshape(len(score_row[indices_row]),1))\n",
        "    \n",
        "    t3 = time.time()\n",
        "\n",
        "    #U - matrix\n",
        "    k = arr[indices_row,:]\n",
        "    A = k[:,indices_col]\n",
        "    A_T = np.transpose(A)\n",
        "    V = np.dot(A_T, A) \n",
        "    U = np.dot(A, A_T)\n",
        "    s, v = np.linalg.eig(A) \n",
        "    s_diag_matrix = np.diag(s)\n",
        "    #rating_matrix = X_pred = np.dot(np.dot(u, s_diag_90), vt)\n",
        "    \n",
        "    u_mat = np.matmul(v, np.matmul(np.square(diag_inv(s_diag_matrix)), u.T))\n",
        "    \n",
        "    t4 = time.time()\n",
        "    \n",
        "    print(\"Time taken for C-matrix construction selection is... \" + str(t2-t1) + \"/n\")\n",
        "    print(\"Time taken for R-matrix construction selection is... \" + str(t3-t2) + \"/n\")\n",
        "    print(\"Time taken for U-matrix construction selection is... \" + str(t4-t3) + \"/n\")\n",
        "    \n",
        "    #Frobenius norm for decomposed matrix\n",
        "    frob_norm = error(arr, c_mat, u_mat, r_mat)\n",
        "    \n",
        "    print(\"The frobenius norm of the CUR decomposition is: \" + str(frob_norm))\n",
        "    \n",
        "    return c_mat, u_mat, r_mat"
      ],
      "execution_count": null,
      "outputs": []
    },
    {
      "cell_type": "code",
      "metadata": {
        "id": "RbTIMmOYzz50"
      },
      "source": [
        "#Given Input and target variable the correlation matrix using pearson formula is calculated\n",
        "def pearson_coeff(X, Y):\n",
        "    data = np.hstack((X,Y))\n",
        "    dframe = pd.DataFrame(data)\n",
        "    corr_matrix = dframe.corr(method = 'pearson')\n",
        "    return corr_matrix"
      ],
      "execution_count": null,
      "outputs": []
    },
    {
      "cell_type": "code",
      "metadata": {
        "id": "4Z82DAC0al2Y"
      },
      "source": [
        "def rmse(act , pred):\n",
        "    mat = a - a_cap\n",
        "    return np.sqrt(np.sum(np.square(mat))/len(a))"
      ],
      "execution_count": null,
      "outputs": []
    },
    {
      "cell_type": "code",
      "metadata": {
        "id": "CHjcqgLidpDn"
      },
      "source": [
        "def k_precision(act, pred, k_val):\n",
        "    act_val = []\n",
        "    pred_val = []\n",
        "    n_rel = 0\n",
        "    for i in range(len(act)):\n",
        "            if act[i] >= k_val:\n",
        "                act_val.append(act[i])\n",
        "                pred_val.append(pred[i])\n",
        "        act_val = np.array(act_val)\n",
        "        pred_val = np.array(pred_val)\n",
        "    ind = act_val.argsort()[::-1]\n",
        "    act_val =  act_val[ind]\n",
        "    pred_val = pred_val[ind]\n",
        "\n",
        "    for x in range(len(act_val)):\n",
        "        if pred_val[x] < k_val:\n",
        "            n_rel = n_rel + 1\n",
        "\n",
        "    precision = (len(act_val) - n_rel)/len(act_val)\n",
        "\n",
        "    return precision\n"
      ],
      "execution_count": null,
      "outputs": []
    }
  ]
}